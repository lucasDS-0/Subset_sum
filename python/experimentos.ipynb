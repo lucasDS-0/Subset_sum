{
 "cells": [
  {
   "cell_type": "markdown",
   "metadata": {},
   "source": [
    "# Correr experimentos\n",
    "En este archivo está el código para correr los experimentos y escribir los resultados en archivos CSV.\n",
    "> Los archivos se guardan en la carpeta _resultados_."
   ]
  },
  {
   "cell_type": "code",
   "execution_count": 21,
   "metadata": {},
   "outputs": [],
   "source": [
    "import math, subprocess\n",
    "import pandas as pd\n",
    "import numpy as np\n",
    "from IPython.display import display, clear_output"
   ]
  },
  {
   "cell_type": "markdown",
   "metadata": {},
   "source": [
    "A continuación leemos los datasets en dataframes de Pandas."
   ]
  },
  {
   "cell_type": "code",
   "execution_count": 22,
   "metadata": {},
   "outputs": [],
   "source": [
    "def leer_instancia(path_instancia):\n",
    "    with open(path_instancia, \"r\") as f:\n",
    "        return f.read();\n",
    "\n",
    "df_beneficio_alto_contagio_bajo = pd.read_csv(\"instancias/beneficio-alto-contagio-bajo/indice.csv\");\n",
    "df_beneficio_bajo_contagio_alto = pd.read_csv(\"instancias/beneficio-bajo-contagio-alto/indice.csv\");\n",
    "df_bt_mejor_caso = pd.read_csv(\"instancias/bt-mejor-caso/indice.csv\");\n",
    "df_bt_peor_caso = pd.read_csv(\"instancias/bt-peor-caso/indice.csv\");\n",
    "df_dinamica = pd.read_csv(\"instancias/dinamica/indice.csv\");\n",
    "df_bt_vs_d_mejor = pd.read_csv(\"instancias/bt-vs-d-mejor/indice.csv\");"
   ]
  },
  {
   "cell_type": "markdown",
   "metadata": {},
   "source": [
    "La siguiente función sirve para correr el código sobre una instancia ejecutando un método en particular.\n",
    "- FB: Fuerza bruta\n",
    "- BT: Backtracking con ambas podas.\n",
    "- BT-F: Backtracking solamente con poda por factibilidad.\n",
    "- BT-O: Backtracking solamente con poda por optimalidad.\n",
    "- DP: Programación dinámica."
   ]
  },
  {
   "cell_type": "code",
   "execution_count": 23,
   "metadata": {},
   "outputs": [],
   "source": [
    "def correr_experimento(metodo, archivo_instancia):\n",
    "    # Leer archivo de la instancia.\n",
    "    instancia = leer_instancia(archivo_instancia)\n",
    "    \n",
    "    # Crear proceso para ejecutar el codigo.\n",
    "    process = subprocess.Popen([\"../distanciamiento_social\", metodo], stderr=subprocess.PIPE, stdout=subprocess.PIPE, stdin=subprocess.PIPE, universal_newlines = True)\n",
    "\n",
    "    # Poner la instancia en la entrada estandar.\n",
    "    process.stdin.write(instancia)\n",
    "    process.stdin.flush()\n",
    "\n",
    "    # Correr experimento.\n",
    "    exit_code = process.wait()\n",
    "\n",
    "    # Verificar que el proceso no fallo.\n",
    "    if exit_code != 0: raise(F\"Hubo un error en la experimentacion para el algoritmo: {algoritmo} con la instancia {archivo_instancia}.\")\n",
    "    # Leer salida de STDERR con los tiempos de ejecucion de cada metodo.\n",
    "    tiempo_de_ejecucion = float(process.stderr.read());\n",
    "    \n",
    "    process.stdin.close();\n",
    "    process.stdout.close();\n",
    "    process.stderr.close();\n",
    "    \n",
    "    return tiempo_de_ejecucion;"
   ]
  },
  {
   "cell_type": "markdown",
   "metadata": {},
   "source": [
    "## Corremos los experimentos\n",
    "Vamos a guardar una tabla con las ejecuciones y sus respectivos tiempos."
   ]
  },
  {
   "cell_type": "code",
   "execution_count": 24,
   "metadata": {},
   "outputs": [],
   "source": [
    "experimentos = [];"
   ]
  },
  {
   "cell_type": "markdown",
   "metadata": {},
   "source": [
    "### Experimento 1\n",
    "Comaparar Fuerza Bruta con las primeras 30 instancias de bt-peor-caso y bt-mejor-caso."
   ]
  },
  {
   "cell_type": "code",
   "execution_count": 25,
   "metadata": {},
   "outputs": [],
   "source": [
    "for n in range(0, 30):\n",
    "    fila_n = df_bt_peor_caso.iloc[n];\n",
    "    experimentos.append([fila_n[\"dataset\"], n, fila_n[\"M\"], \"FB\", fila_n[\"archivo\"]]);\n",
    "\n",
    "for n in range(0, 30):\n",
    "    fila_n = df_bt_mejor_caso.iloc[n];\n",
    "    experimentos.append([fila_n[\"dataset\"], n, fila_n[\"M\"], \"FB\", fila_n[\"archivo\"]]);"
   ]
  },
  {
   "cell_type": "markdown",
   "metadata": {},
   "source": [
    "### Experimento 2\n",
    "Analizar resultados de Backtracking en las primeras 30 instancias de beneficio-alto-contagio-bajo y beneficio-bajo-contagio-alto."
   ]
  },
  {
   "cell_type": "code",
   "execution_count": 26,
   "metadata": {},
   "outputs": [],
   "source": [
    "for n in range(0, df_beneficio_alto_contagio_bajo.shape[0]):\n",
    "    fila_n = df_beneficio_alto_contagio_bajo.iloc[n];\n",
    "    experimentos.append([fila_n[\"dataset\"], n, fila_n[\"M\"], \"BT\", fila_n[\"archivo\"]]);\n",
    "\n",
    "for n in range(0, df_beneficio_bajo_contagio_alto.shape[0]):\n",
    "    fila_n = df_beneficio_bajo_contagio_alto.iloc[n];\n",
    "    experimentos.append([fila_n[\"dataset\"], n, fila_n[\"M\"], \"BT\", fila_n[\"archivo\"]]);"
   ]
  },
  {
   "cell_type": "markdown",
   "metadata": {},
   "source": [
    "### Experimento 3\n",
    "Comparacion de Backtracking con y sin podas para bt-peor-caso y bt-mejor-caso."
   ]
  },
  {
   "cell_type": "code",
   "execution_count": 27,
   "metadata": {},
   "outputs": [],
   "source": [
    "for n in range(0, df_bt_mejor_caso.shape[0]):\n",
    "    fila_n = df_bt_mejor_caso.iloc[n];\n",
    "    experimentos.append([fila_n[\"dataset\"], n, fila_n[\"M\"], \"BT\", fila_n[\"archivo\"]]);\n",
    "    experimentos.append([fila_n[\"dataset\"], n, fila_n[\"M\"], \"BT-F\", fila_n[\"archivo\"]]);\n",
    "    experimentos.append([fila_n[\"dataset\"], n, fila_n[\"M\"], \"BT-O\", fila_n[\"archivo\"]]);\n",
    "    \n",
    "for n in range(0, df_bt_peor_caso.shape[0]):\n",
    "    fila_n = df_bt_peor_caso.iloc[n];\n",
    "    experimentos.append([fila_n[\"dataset\"], n, fila_n[\"M\"], \"BT\", fila_n[\"archivo\"]]);\n",
    "    experimentos.append([fila_n[\"dataset\"], n, fila_n[\"M\"], \"BT-F\", fila_n[\"archivo\"]]);\n",
    "    experimentos.append([fila_n[\"dataset\"], n, fila_n[\"M\"], \"BT-O\", fila_n[\"archivo\"]]);"
   ]
  },
  {
   "cell_type": "markdown",
   "metadata": {},
   "source": [
    "### Experimento 4\n",
    "Analizar la ejecución de DP para la instancia dinamica."
   ]
  },
  {
   "cell_type": "code",
   "execution_count": 28,
   "metadata": {},
   "outputs": [],
   "source": [
    "for n in range(0, df_dinamica.shape[0]):\n",
    "    fila_n = df_dinamica.iloc[n];\n",
    "    experimentos.append([fila_n[\"dataset\"], n, fila_n[\"M\"], \"DP\", fila_n[\"archivo\"]]);"
   ]
  },
  {
   "cell_type": "markdown",
   "metadata": {},
   "source": [
    "### Experimento 5\n",
    "\n",
    "Comaprar la ejecución de DP vs Backtracking sobre bt-vs-d-mejor y beneficio-alto-contagio-bajo."
   ]
  },
  {
   "cell_type": "code",
   "execution_count": 29,
   "metadata": {},
   "outputs": [],
   "source": [
    "for n in range(0, df_bt_vs_d_mejor.shape[0]):\n",
    "    fila_n = df_bt_vs_d_mejor.iloc[n];\n",
    "    experimentos.append([fila_n[\"dataset\"], n, fila_n[\"M\"], \"DP\", fila_n[\"archivo\"]]);\n",
    "    experimentos.append([fila_n[\"dataset\"], n, fila_n[\"M\"], \"BT\", fila_n[\"archivo\"]]);\n",
    "    \n",
    "for n in range(0, df_beneficio_alto_contagio_bajo.shape[0]):\n",
    "    fila_n = df_beneficio_alto_contagio_bajo.iloc[n];\n",
    "    experimentos.append([fila_n[\"dataset\"], n, fila_n[\"M\"], \"DP\", fila_n[\"archivo\"]]);"
   ]
  },
  {
   "cell_type": "markdown",
   "metadata": {},
   "source": [
    "## Ejecutar los experimentos y guardar los resultados en un archivo CSV.\n",
    "Este paso puede tardar unos minutos hasta terminar de ejecutarse."
   ]
  },
  {
   "cell_type": "code",
   "execution_count": 30,
   "metadata": {},
   "outputs": [
    {
     "data": {
      "text/plain": [
       "'Experimento: 8400/8400'"
      ]
     },
     "metadata": {},
     "output_type": "display_data"
    },
    {
     "data": {
      "text/plain": [
       "'DPinstancias/beneficio-alto-contagio-bajo/BT-BACB-50.txt'"
      ]
     },
     "metadata": {},
     "output_type": "display_data"
    }
   ],
   "source": [
    "columnas = [\"dataset\", \"n\", \"M\", \"metodo\", \"tiempo\"];\n",
    "filas = [];\n",
    "numero = 1\n",
    "T = 5 # Numero de veces que se ejecuta cada experimento (para mayor fidelidad del tiempo).\n",
    "for experimento in experimentos:\n",
    "    # Voy mostrando que experimento se esta ejecutando.\n",
    "    clear_output(wait=True)\n",
    "    display('Experimento: ' + str(numero) + \"/\" + str(len(experimentos)))\n",
    "    display(experimento[3] + experimento[4])\n",
    "    numero += 1\n",
    "    \n",
    "    # Ejecutamos el experimento T veces y obtenemos la mediana.\n",
    "    tiempos = []\n",
    "    for i in range(0, T):\n",
    "        tiempos.append(correr_experimento(experimento[3], experimento[4]));\n",
    "    tiempo = np.median(tiempos);\n",
    "    filas.append([experimento[0], experimento[1], experimento[2], experimento[3], tiempo]);\n",
    "df_resultado = pd.DataFrame(filas, columns=columnas);\n",
    "df_resultado.to_csv(\"resultados/resultado.csv\", index=False, header=True);"
   ]
  },
  {
   "cell_type": "code",
   "execution_count": null,
   "metadata": {},
   "outputs": [],
   "source": []
  },
  {
   "cell_type": "code",
   "execution_count": null,
   "metadata": {},
   "outputs": [],
   "source": []
  },
  {
   "cell_type": "code",
   "execution_count": null,
   "metadata": {},
   "outputs": [],
   "source": []
  }
 ],
 "metadata": {
  "kernelspec": {
   "display_name": "Python 3",
   "language": "python",
   "name": "python3"
  },
  "language_info": {
   "codemirror_mode": {
    "name": "ipython",
    "version": 3
   },
   "file_extension": ".py",
   "mimetype": "text/x-python",
   "name": "python",
   "nbconvert_exporter": "python",
   "pygments_lexer": "ipython3",
   "version": "3.8.5"
  }
 },
 "nbformat": 4,
 "nbformat_minor": 4
}
