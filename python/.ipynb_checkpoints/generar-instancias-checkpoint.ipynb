{
 "cells": [
  {
   "cell_type": "markdown",
   "metadata": {},
   "source": [
    "# Generador de instancias\n",
    "En este notebook está el código para generar los sets de instancias que se usan para experimentar.\n",
    "- Estas instancias van a ser guardadas en la carpeta __instancias__.\n",
    "- Cada set estará en su propia carpeta y tendrá un archivo _indice.csv_ que contendrá información sobre las instancias."
   ]
  },
  {
   "cell_type": "code",
   "execution_count": 9,
   "metadata": {},
   "outputs": [],
   "source": [
    "import random, math\n",
    "import pandas as pd"
   ]
  },
  {
   "cell_type": "code",
   "execution_count": 10,
   "metadata": {},
   "outputs": [],
   "source": [
    "def save_instance(dataset, instance_name, B, C, M):\n",
    "    with open(F\"instancias/{dataset}/{instance_name}.txt\", \"w\") as f:\n",
    "        print(len(B), M, file=f)\n",
    "        for i in range(0,len(B)): \n",
    "            print(B[i], C[i], file=f, end=\" \")\n",
    "\n",
    "def save_index(dataset, instances):\n",
    "    with open(F\"instancias/{dataset}/instances.txt\", \"w\") as f:\n",
    "        for instance in instances: \n",
    "            print(instance, file=f)"
   ]
  },
  {
   "cell_type": "markdown",
   "metadata": {},
   "source": [
    "# Dataset 1\n",
    "Instancias de beneficio bajo y contagio alto en relación al límite de contagio.\n",
    "\n",
    "Para todo elemento de B o C, $\\forall i$ / $1 \\leq i \\leq n$ se tiene que $b_i$ $\\in N(0,\\frac{M^{2}}{64})$ y $c_i$ $\\in N(M,\\frac{M^{2}}{64})$."
   ]
  },
  {
   "cell_type": "code",
   "execution_count": 11,
   "metadata": {},
   "outputs": [],
   "source": [
    "filas_indice = []\n",
    "for i in range(1, 51):\n",
    "    n = i \n",
    "    M = 500\n",
    "    B = [abs(int(random.normalvariate(0,M/8))) for i in range(0, n)]\n",
    "    C = [abs(int(random.normalvariate(M,M/8))) for i in range(0, n)]\n",
    "    save_instance(\"beneficio-bajo-contagio-alto\", F\"BT-BBCA-{n}\", B, C, M)\n",
    "    filas_indice.append([\"beneficio-bajo-contagio-alto\", F\"BT-BBCA-{n}\", n, M, F\"instancias/beneficio-bajo-contagio-alto/BT-BBCA-{n}.txt\"])\n",
    "pd.DataFrame(filas_indice, columns=[\"dataset\", \"instancia\", \"n\", \"M\", \"archivo\"]).to_csv(\"instancias/beneficio-bajo-contagio-alto/indice.csv\", index=False, header=True)"
   ]
  },
  {
   "cell_type": "markdown",
   "metadata": {},
   "source": [
    "# Dataset 2\n",
    "Instancias de beneficio alto y contagio bajo en relación al límite de contagio.\n",
    "\n",
    "Para todo elemento de B o C, $\\forall i$ / $1 \\leq i \\leq n$ tengo que $c_i$ $\\in N(0,\\frac{M^{2}}{64})$ y $b_i$ $\\in N(M,\\frac{M^{2}}{64})$."
   ]
  },
  {
   "cell_type": "code",
   "execution_count": 12,
   "metadata": {},
   "outputs": [],
   "source": [
    "filas_indice = []\n",
    "for i in range(1, 51):\n",
    "    n = i\n",
    "    M = 500\n",
    "    B = [abs(int(random.normalvariate(M,M/8))) for i in range(0, n)]\n",
    "    C = [abs(int(random.normalvariate(0,M/8))) for i in range(0, n)]\n",
    "    save_instance(\"beneficio-alto-contagio-bajo\", F\"BT-BACB-{n}\", B, C, M)\n",
    "    filas_indice.append([\"beneficio-alto-contagio-bajo\", F\"BT-BACB-{n}\", n, M, F\"instancias/beneficio-alto-contagio-bajo/BT-BACB-{n}.txt\"])\n",
    "pd.DataFrame(filas_indice, columns=[\"dataset\", \"instancia\", \"n\", \"M\", \"archivo\"]).to_csv(\"instancias/beneficio-alto-contagio-bajo/indice.csv\", index=False, header=True)"
   ]
  },
  {
   "cell_type": "markdown",
   "metadata": {},
   "source": [
    "# Dataset 3\n",
    "Instancias de mejor caso para Backtracking\n",
    "\n",
    "Para todo elemento de B se tiene que $b_i = 0 \\land c_i = M + 1$ $\\forall 1 < i \\leq n$ y $0 < b_1$, y $c_1 = M$."
   ]
  },
  {
   "cell_type": "code",
   "execution_count": 13,
   "metadata": {},
   "outputs": [],
   "source": [
    "filas_indice = []\n",
    "for i in range(1, 1001):\n",
    "    n = i \n",
    "    M = 500\n",
    "    B = [0 for i in range(1, n)]\n",
    "    B = [sum(B) + abs(int(random.normalvariate(M,M/8))) + 1] + B\n",
    "    C = [M + 1 for i in range(1, n)]\n",
    "    C = [M] + C\n",
    "    save_instance(\"bt-mejor-caso\", F\"BT-MC-{n}\", B, C, M)\n",
    "    filas_indice.append([\"bt-mejor-caso\", F\"BT-MC-{n}\", n, M, F\"instancias/bt-mejor-caso/BT-MC-{n}.txt\"])\n",
    "pd.DataFrame(filas_indice, columns=[\"dataset\", \"instancia\", \"n\", \"M\", \"archivo\"]).to_csv(\"instancias/bt-mejor-caso/indice.csv\", index=False, header=True)"
   ]
  },
  {
   "cell_type": "markdown",
   "metadata": {},
   "source": [
    "# Dataset 4\n",
    "Instancias de peor caso para Backtracking\n",
    "\n",
    "Para todo elemento de B se tiene que $b_j < \\sum_{i = j+1}^{n}b_i$ para $1 \\leq j \\leq n$ y $c_i = 0$, $\\forall i$ / $1 \\leq i \\leq n$."
   ]
  },
  {
   "cell_type": "code",
   "execution_count": 14,
   "metadata": {},
   "outputs": [],
   "source": [
    "filas_indice = []\n",
    "for i in range(1, 31):\n",
    "    n = i \n",
    "    M = 500\n",
    "    B = [abs(int(random.normalvariate(M,M/8)))]\n",
    "    for j in range(1,n):\n",
    "        B.append(B[j-1] + 1 + abs(int(random.normalvariate(M,M/8))))\n",
    "    C = [0 for h in range(0, n)]\n",
    "    save_instance(\"bt-peor-caso\", F\"BT-PC-{n}\", B, C, M)\n",
    "    filas_indice.append([\"bt-peor-caso\", F\"BT-PC-{n}\", n, M, F\"instancias/bt-peor-caso/BT-PC-{n}.txt\"])\n",
    "pd.DataFrame(filas_indice, columns=[\"dataset\", \"instancia\", \"n\", \"M\", \"archivo\"]).to_csv(\"instancias/bt-peor-caso/indice.csv\", index=False, header=True)"
   ]
  },
  {
   "cell_type": "markdown",
   "metadata": {},
   "source": [
    "# Dataset 5\n",
    "Instancias dinámicas de valores para $n \\in [50,5000]$ con $M \\in [50,n]$.\n",
    "\n"
   ]
  },
  {
   "cell_type": "code",
   "execution_count": 15,
   "metadata": {},
   "outputs": [],
   "source": [
    "filas_indice = []\n",
    "for i in range(50, 5001, 50):\n",
    "    n = i\n",
    "    for j in range(50,n+1,50):\n",
    "        M = j\n",
    "        B = [abs(int(random.normalvariate(M,M/4))) for i in range(0, n)]\n",
    "        C = [abs(int(random.normalvariate(M/n,M/16))) for i in range(0, n)]\n",
    "        save_instance(\"dinamica\", F\"D-{n}-{M}\", B, C, M)\n",
    "        filas_indice.append([\"dinamica\", F\"D-{n}-{M}\", n, M, F\"instancias/dinamica/D-{n}-{M}.txt\"])\n",
    "pd.DataFrame(filas_indice, columns=[\"dataset\", \"instancia\", \"n\", \"M\", \"archivo\"]).to_csv(\"instancias/dinamica/indice.csv\", index=False, header=True)"
   ]
  },
  {
   "cell_type": "markdown",
   "metadata": {},
   "source": [
    "# Dataset 6\n",
    "Instancias para comparar Backtracking y Programación Dinámica cuando $M \\approx 2^{n}$\n",
    "\n"
   ]
  },
  {
   "cell_type": "code",
   "execution_count": 16,
   "metadata": {},
   "outputs": [],
   "source": [
    "filas_indice = []\n",
    "for i in range(1, 26):\n",
    "    n = i\n",
    "    M = 2**n\n",
    "    B = [abs(int(random.normalvariate(M/2,M/4))) for i in range(0, n)]\n",
    "    C = [abs(int(random.normalvariate(M,M/4))) for i in range(0, n)]\n",
    "    save_instance(\"bt-vs-d-mejor\", F\"BT-D-M-{n}\", B, C, M)\n",
    "    filas_indice.append([\"bt-vs-d-mejor\", F\"BT-D-M-{n}\", n, M, F\"instancias/bt-vs-d-mejor/BT-D-M-{n}.txt\"])\n",
    "pd.DataFrame(filas_indice, columns=[\"dataset\", \"instancia\", \"n\", \"M\", \"archivo\"]).to_csv(\"instancias/bt-vs-d-mejor/indice.csv\", index=False, header=True)"
   ]
  },
  {
   "cell_type": "code",
   "execution_count": null,
   "metadata": {},
   "outputs": [],
   "source": []
  },
  {
   "cell_type": "code",
   "execution_count": null,
   "metadata": {},
   "outputs": [],
   "source": []
  }
 ],
 "metadata": {
  "kernelspec": {
   "display_name": "Python 3",
   "language": "python",
   "name": "python3"
  },
  "language_info": {
   "codemirror_mode": {
    "name": "ipython",
    "version": 3
   },
   "file_extension": ".py",
   "mimetype": "text/x-python",
   "name": "python",
   "nbconvert_exporter": "python",
   "pygments_lexer": "ipython3",
   "version": "3.8.2"
  }
 },
 "nbformat": 4,
 "nbformat_minor": 4
}
